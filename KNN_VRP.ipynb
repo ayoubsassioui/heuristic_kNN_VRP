{
 "cells": [
  {
   "cell_type": "code",
   "execution_count": 1,
   "id": "e6d89491",
   "metadata": {},
   "outputs": [],
   "source": [
    "import numpy as np\n",
    "import pandas as pd\n",
    "import seaborn as sns\n",
    "from random import seed\n",
    "from random import randint,random\n",
    "from sklearn.neighbors import DistanceMetric\n",
    "import matplotlib.pyplot as plt"
   ]
  },
  {
   "cell_type": "code",
   "execution_count": 2,
   "id": "6fda064e",
   "metadata": {},
   "outputs": [
    {
     "data": {
      "text/plain": [
       "([24.618368996675333,\n",
       "  48.25050634136244,\n",
       "  26.90974625596824,\n",
       "  2.982785476037653,\n",
       "  16.81021723599659,\n",
       "  32.90216595043958,\n",
       "  31.310147569319334,\n",
       "  25.72983174826013,\n",
       "  50.89883828796799,\n",
       "  19.683983931915442],\n",
       " [30.472142715452712,\n",
       "  22.100701208068365,\n",
       "  37.43417183545378,\n",
       "  13.610886973443801,\n",
       "  32.913011053237895,\n",
       "  8.966606367770758,\n",
       "  18.477009776552716,\n",
       "  8.86530992777164,\n",
       "  48.26049231039196,\n",
       "  6.8050278270130224])"
      ]
     },
     "execution_count": 2,
     "metadata": {},
     "output_type": "execute_result"
    }
   ],
   "source": [
    "seed(0)\n",
    "latitude = [randint(0, 50) for i in range(10)]\n",
    "longitude = [randint(0, 50) for i in range(10)]\n",
    "latitude = [latitude[i]+random() for i in range(10)]\n",
    "longitude = [longitude[i]+random() for i in range(10)]\n",
    "latitude, longitude"
   ]
  },
  {
   "cell_type": "code",
   "execution_count": 3,
   "id": "f4242967",
   "metadata": {},
   "outputs": [
    {
     "data": {
      "text/html": [
       "<div>\n",
       "<style scoped>\n",
       "    .dataframe tbody tr th:only-of-type {\n",
       "        vertical-align: middle;\n",
       "    }\n",
       "\n",
       "    .dataframe tbody tr th {\n",
       "        vertical-align: top;\n",
       "    }\n",
       "\n",
       "    .dataframe thead th {\n",
       "        text-align: right;\n",
       "    }\n",
       "</style>\n",
       "<table border=\"1\" class=\"dataframe\">\n",
       "  <thead>\n",
       "    <tr style=\"text-align: right;\">\n",
       "      <th></th>\n",
       "      <th>latitude</th>\n",
       "      <th>longitude</th>\n",
       "    </tr>\n",
       "    <tr>\n",
       "      <th>ville</th>\n",
       "      <th></th>\n",
       "      <th></th>\n",
       "    </tr>\n",
       "  </thead>\n",
       "  <tbody>\n",
       "    <tr>\n",
       "      <th>A</th>\n",
       "      <td>24.618369</td>\n",
       "      <td>30.472143</td>\n",
       "    </tr>\n",
       "    <tr>\n",
       "      <th>B</th>\n",
       "      <td>48.250506</td>\n",
       "      <td>22.100701</td>\n",
       "    </tr>\n",
       "    <tr>\n",
       "      <th>C</th>\n",
       "      <td>26.909746</td>\n",
       "      <td>37.434172</td>\n",
       "    </tr>\n",
       "    <tr>\n",
       "      <th>D</th>\n",
       "      <td>2.982785</td>\n",
       "      <td>13.610887</td>\n",
       "    </tr>\n",
       "    <tr>\n",
       "      <th>E</th>\n",
       "      <td>16.810217</td>\n",
       "      <td>32.913011</td>\n",
       "    </tr>\n",
       "    <tr>\n",
       "      <th>F</th>\n",
       "      <td>32.902166</td>\n",
       "      <td>8.966606</td>\n",
       "    </tr>\n",
       "    <tr>\n",
       "      <th>G</th>\n",
       "      <td>31.310148</td>\n",
       "      <td>18.477010</td>\n",
       "    </tr>\n",
       "    <tr>\n",
       "      <th>H</th>\n",
       "      <td>25.729832</td>\n",
       "      <td>8.865310</td>\n",
       "    </tr>\n",
       "    <tr>\n",
       "      <th>I</th>\n",
       "      <td>50.898838</td>\n",
       "      <td>48.260492</td>\n",
       "    </tr>\n",
       "    <tr>\n",
       "      <th>J</th>\n",
       "      <td>19.683984</td>\n",
       "      <td>6.805028</td>\n",
       "    </tr>\n",
       "  </tbody>\n",
       "</table>\n",
       "</div>"
      ],
      "text/plain": [
       "        latitude  longitude\n",
       "ville                      \n",
       "A      24.618369  30.472143\n",
       "B      48.250506  22.100701\n",
       "C      26.909746  37.434172\n",
       "D       2.982785  13.610887\n",
       "E      16.810217  32.913011\n",
       "F      32.902166   8.966606\n",
       "G      31.310148  18.477010\n",
       "H      25.729832   8.865310\n",
       "I      50.898838  48.260492\n",
       "J      19.683984   6.805028"
      ]
     },
     "execution_count": 3,
     "metadata": {},
     "output_type": "execute_result"
    }
   ],
   "source": [
    "ville = ['A','B','C','D','E','F','G','H','I','J']\n",
    "data = {'latitude': latitude, 'longitude': longitude, 'ville': ville}\n",
    "df = pd.DataFrame(data)\n",
    "df.set_index('ville' , inplace = True)\n",
    "df"
   ]
  },
  {
   "cell_type": "code",
   "execution_count": 11,
   "id": "90b55576",
   "metadata": {},
   "outputs": [
    {
     "data": {
      "text/html": [
       "<div>\n",
       "<style scoped>\n",
       "    .dataframe tbody tr th:only-of-type {\n",
       "        vertical-align: middle;\n",
       "    }\n",
       "\n",
       "    .dataframe tbody tr th {\n",
       "        vertical-align: top;\n",
       "    }\n",
       "\n",
       "    .dataframe thead th {\n",
       "        text-align: right;\n",
       "    }\n",
       "</style>\n",
       "<table border=\"1\" class=\"dataframe\">\n",
       "  <thead>\n",
       "    <tr style=\"text-align: right;\">\n",
       "      <th></th>\n",
       "      <th>latitude</th>\n",
       "      <th>longitude</th>\n",
       "      <th>ville</th>\n",
       "    </tr>\n",
       "    <tr>\n",
       "      <th>ville</th>\n",
       "      <th></th>\n",
       "      <th></th>\n",
       "      <th></th>\n",
       "    </tr>\n",
       "  </thead>\n",
       "  <tbody>\n",
       "    <tr>\n",
       "      <th>A</th>\n",
       "      <td>24.618369</td>\n",
       "      <td>30.472143</td>\n",
       "      <td>A</td>\n",
       "    </tr>\n",
       "    <tr>\n",
       "      <th>B</th>\n",
       "      <td>48.250506</td>\n",
       "      <td>22.100701</td>\n",
       "      <td>B</td>\n",
       "    </tr>\n",
       "    <tr>\n",
       "      <th>C</th>\n",
       "      <td>26.909746</td>\n",
       "      <td>37.434172</td>\n",
       "      <td>C</td>\n",
       "    </tr>\n",
       "    <tr>\n",
       "      <th>D</th>\n",
       "      <td>2.982785</td>\n",
       "      <td>13.610887</td>\n",
       "      <td>D</td>\n",
       "    </tr>\n",
       "    <tr>\n",
       "      <th>E</th>\n",
       "      <td>16.810217</td>\n",
       "      <td>32.913011</td>\n",
       "      <td>E</td>\n",
       "    </tr>\n",
       "    <tr>\n",
       "      <th>F</th>\n",
       "      <td>32.902166</td>\n",
       "      <td>8.966606</td>\n",
       "      <td>F</td>\n",
       "    </tr>\n",
       "    <tr>\n",
       "      <th>G</th>\n",
       "      <td>31.310148</td>\n",
       "      <td>18.477010</td>\n",
       "      <td>G</td>\n",
       "    </tr>\n",
       "    <tr>\n",
       "      <th>H</th>\n",
       "      <td>25.729832</td>\n",
       "      <td>8.865310</td>\n",
       "      <td>H</td>\n",
       "    </tr>\n",
       "    <tr>\n",
       "      <th>I</th>\n",
       "      <td>50.898838</td>\n",
       "      <td>48.260492</td>\n",
       "      <td>I</td>\n",
       "    </tr>\n",
       "    <tr>\n",
       "      <th>J</th>\n",
       "      <td>19.683984</td>\n",
       "      <td>6.805028</td>\n",
       "      <td>J</td>\n",
       "    </tr>\n",
       "  </tbody>\n",
       "</table>\n",
       "</div>"
      ],
      "text/plain": [
       "        latitude  longitude ville\n",
       "ville                            \n",
       "A      24.618369  30.472143     A\n",
       "B      48.250506  22.100701     B\n",
       "C      26.909746  37.434172     C\n",
       "D       2.982785  13.610887     D\n",
       "E      16.810217  32.913011     E\n",
       "F      32.902166   8.966606     F\n",
       "G      31.310148  18.477010     G\n",
       "H      25.729832   8.865310     H\n",
       "I      50.898838  48.260492     I\n",
       "J      19.683984   6.805028     J"
      ]
     },
     "execution_count": 11,
     "metadata": {},
     "output_type": "execute_result"
    }
   ],
   "source": [
    "df[\"ville\"] = ville\n",
    "df"
   ]
  },
  {
   "cell_type": "code",
   "execution_count": 4,
   "id": "e23a43fa",
   "metadata": {},
   "outputs": [],
   "source": [
    "positions = dict( ( city, (df.loc[city, 'longitude'], df.loc[city, 'latitude']) ) for city in ville)"
   ]
  },
  {
   "cell_type": "code",
   "execution_count": 17,
   "id": "a0e0ecdc",
   "metadata": {},
   "outputs": [
    {
     "data": {
      "image/png": "[encoded data removed]",
      "text/plain": [
       "<Figure size 432x288 with 1 Axes>"
      ]
     },
     "metadata": {
      "needs_background": "light"
     },
     "output_type": "display_data"
    }
   ],
   "source": [
    "for s in positions:\n",
    "    p = positions[s]\n",
    "    plt.plot(p[0],p[1],'o')\n",
    "    plt.text(p[0]+.8,p[1],s,horizontalalignment='left',verticalalignment='center')\n"
   ]
  },
  {
   "cell_type": "code",
   "execution_count": 22,
   "id": "e3cdbd7c",
   "metadata": {},
   "outputs": [],
   "source": [
    "dist = DistanceMetric.get_metric('euclidean')"
   ]
  },
  {
   "cell_type": "code",
   "execution_count": 23,
   "id": "3806b0fa",
   "metadata": {},
   "outputs": [
    {
     "data": {
      "text/plain": [
       "array([[24.618369  , 30.47214272],\n",
       "       [48.25050634, 22.10070121],\n",
       "       [26.90974626, 37.43417184],\n",
       "       [ 2.98278548, 13.61088697],\n",
       "       [16.81021724, 32.91301105],\n",
       "       [32.90216595,  8.96660637],\n",
       "       [31.31014757, 18.47700978],\n",
       "       [25.72983175,  8.86530993],\n",
       "       [50.89883829, 48.26049231],\n",
       "       [19.68398393,  6.80502783]])"
      ]
     },
     "execution_count": 23,
     "metadata": {},
     "output_type": "execute_result"
    }
   ],
   "source": [
    "df[['latitude','longitude']].to_numpy()"
   ]
  },
  {
   "cell_type": "code",
   "execution_count": 24,
   "id": "96545917",
   "metadata": {},
   "outputs": [
    {
     "data": {
      "text/plain": [
       "array([[ 0.        , 25.07107793,  7.32941056, 27.42991833,  8.18077455,\n",
       "        23.04581059, 13.73546922, 21.63540091, 31.73465688, 24.17603117],\n",
       "       [25.07107793,  0.        , 26.27819177, 46.05695928, 33.24752357,\n",
       "        20.20089107, 17.32359359, 26.12195181, 26.29350362, 32.40376254],\n",
       "       [ 7.32941056, 26.27819177,  0.        , 33.76460208, 11.06532337,\n",
       "        29.09143134, 19.46117995, 28.59321718, 26.31892383, 31.4699238 ],\n",
       "       [27.42991833, 46.05695928, 33.76460208,  0.        , 23.74383842,\n",
       "        30.27769262, 28.74227886, 23.23679443, 59.13157589, 18.03468183],\n",
       "       [ 8.18077455, 33.24752357, 11.06532337, 23.74383842,  0.        ,\n",
       "        28.85101577, 20.4608434 , 25.64861502, 37.38421146, 26.26566815],\n",
       "       [23.04581059, 20.20089107, 29.09143134, 30.27769262, 28.85101577,\n",
       "         0.        ,  9.64273278,  7.17304948, 43.21908939, 13.39375816],\n",
       "       [13.73546922, 17.32359359, 19.46117995, 28.74227886, 20.4608434 ,\n",
       "         9.64273278,  0.        , 11.11416657, 35.64789806, 16.47430859],\n",
       "       [21.63540091, 26.12195181, 28.59321718, 23.23679443, 25.64861502,\n",
       "         7.17304948, 11.11416657,  0.        , 46.74889608,  6.38725592],\n",
       "       [31.73465688, 26.29350362, 26.31892383, 59.13157589, 37.38421146,\n",
       "        43.21908939, 35.64789806, 46.74889608,  0.        , 51.89337788],\n",
       "       [24.17603117, 32.40376254, 31.4699238 , 18.03468183, 26.26566815,\n",
       "        13.39375816, 16.47430859,  6.38725592, 51.89337788,  0.        ]])"
      ]
     },
     "execution_count": 24,
     "metadata": {},
     "output_type": "execute_result"
    }
   ],
   "source": [
    " dist.pairwise(df [['latitude','longitude']].to_numpy())"
   ]
  },
  {
   "cell_type": "code",
   "execution_count": 25,
   "id": "3f3b6621",
   "metadata": {},
   "outputs": [
    {
     "data": {
      "text/html": [
       "<div>\n",
       "<style scoped>\n",
       "    .dataframe tbody tr th:only-of-type {\n",
       "        vertical-align: middle;\n",
       "    }\n",
       "\n",
       "    .dataframe tbody tr th {\n",
       "        vertical-align: top;\n",
       "    }\n",
       "\n",
       "    .dataframe thead th {\n",
       "        text-align: right;\n",
       "    }\n",
       "</style>\n",
       "<table border=\"1\" class=\"dataframe\">\n",
       "  <thead>\n",
       "    <tr style=\"text-align: right;\">\n",
       "      <th></th>\n",
       "      <th>A</th>\n",
       "      <th>B</th>\n",
       "      <th>C</th>\n",
       "      <th>D</th>\n",
       "      <th>E</th>\n",
       "      <th>F</th>\n",
       "      <th>G</th>\n",
       "      <th>H</th>\n",
       "      <th>I</th>\n",
       "      <th>J</th>\n",
       "    </tr>\n",
       "  </thead>\n",
       "  <tbody>\n",
       "    <tr>\n",
       "      <th>A</th>\n",
       "      <td>0.000000</td>\n",
       "      <td>25.071078</td>\n",
       "      <td>7.329411</td>\n",
       "      <td>27.429918</td>\n",
       "      <td>8.180775</td>\n",
       "      <td>23.045811</td>\n",
       "      <td>13.735469</td>\n",
       "      <td>21.635401</td>\n",
       "      <td>31.734657</td>\n",
       "      <td>24.176031</td>\n",
       "    </tr>\n",
       "    <tr>\n",
       "      <th>B</th>\n",
       "      <td>25.071078</td>\n",
       "      <td>0.000000</td>\n",
       "      <td>26.278192</td>\n",
       "      <td>46.056959</td>\n",
       "      <td>33.247524</td>\n",
       "      <td>20.200891</td>\n",
       "      <td>17.323594</td>\n",
       "      <td>26.121952</td>\n",
       "      <td>26.293504</td>\n",
       "      <td>32.403763</td>\n",
       "    </tr>\n",
       "    <tr>\n",
       "      <th>C</th>\n",
       "      <td>7.329411</td>\n",
       "      <td>26.278192</td>\n",
       "      <td>0.000000</td>\n",
       "      <td>33.764602</td>\n",
       "      <td>11.065323</td>\n",
       "      <td>29.091431</td>\n",
       "      <td>19.461180</td>\n",
       "      <td>28.593217</td>\n",
       "      <td>26.318924</td>\n",
       "      <td>31.469924</td>\n",
       "    </tr>\n",
       "    <tr>\n",
       "      <th>D</th>\n",
       "      <td>27.429918</td>\n",
       "      <td>46.056959</td>\n",
       "      <td>33.764602</td>\n",
       "      <td>0.000000</td>\n",
       "      <td>23.743838</td>\n",
       "      <td>30.277693</td>\n",
       "      <td>28.742279</td>\n",
       "      <td>23.236794</td>\n",
       "      <td>59.131576</td>\n",
       "      <td>18.034682</td>\n",
       "    </tr>\n",
       "    <tr>\n",
       "      <th>E</th>\n",
       "      <td>8.180775</td>\n",
       "      <td>33.247524</td>\n",
       "      <td>11.065323</td>\n",
       "      <td>23.743838</td>\n",
       "      <td>0.000000</td>\n",
       "      <td>28.851016</td>\n",
       "      <td>20.460843</td>\n",
       "      <td>25.648615</td>\n",
       "      <td>37.384211</td>\n",
       "      <td>26.265668</td>\n",
       "    </tr>\n",
       "    <tr>\n",
       "      <th>F</th>\n",
       "      <td>23.045811</td>\n",
       "      <td>20.200891</td>\n",
       "      <td>29.091431</td>\n",
       "      <td>30.277693</td>\n",
       "      <td>28.851016</td>\n",
       "      <td>0.000000</td>\n",
       "      <td>9.642733</td>\n",
       "      <td>7.173049</td>\n",
       "      <td>43.219089</td>\n",
       "      <td>13.393758</td>\n",
       "    </tr>\n",
       "    <tr>\n",
       "      <th>G</th>\n",
       "      <td>13.735469</td>\n",
       "      <td>17.323594</td>\n",
       "      <td>19.461180</td>\n",
       "      <td>28.742279</td>\n",
       "      <td>20.460843</td>\n",
       "      <td>9.642733</td>\n",
       "      <td>0.000000</td>\n",
       "      <td>11.114167</td>\n",
       "      <td>35.647898</td>\n",
       "      <td>16.474309</td>\n",
       "    </tr>\n",
       "    <tr>\n",
       "      <th>H</th>\n",
       "      <td>21.635401</td>\n",
       "      <td>26.121952</td>\n",
       "      <td>28.593217</td>\n",
       "      <td>23.236794</td>\n",
       "      <td>25.648615</td>\n",
       "      <td>7.173049</td>\n",
       "      <td>11.114167</td>\n",
       "      <td>0.000000</td>\n",
       "      <td>46.748896</td>\n",
       "      <td>6.387256</td>\n",
       "    </tr>\n",
       "    <tr>\n",
       "      <th>I</th>\n",
       "      <td>31.734657</td>\n",
       "      <td>26.293504</td>\n",
       "      <td>26.318924</td>\n",
       "      <td>59.131576</td>\n",
       "      <td>37.384211</td>\n",
       "      <td>43.219089</td>\n",
       "      <td>35.647898</td>\n",
       "      <td>46.748896</td>\n",
       "      <td>0.000000</td>\n",
       "      <td>51.893378</td>\n",
       "    </tr>\n",
       "    <tr>\n",
       "      <th>J</th>\n",
       "      <td>24.176031</td>\n",
       "      <td>32.403763</td>\n",
       "      <td>31.469924</td>\n",
       "      <td>18.034682</td>\n",
       "      <td>26.265668</td>\n",
       "      <td>13.393758</td>\n",
       "      <td>16.474309</td>\n",
       "      <td>6.387256</td>\n",
       "      <td>51.893378</td>\n",
       "      <td>0.000000</td>\n",
       "    </tr>\n",
       "  </tbody>\n",
       "</table>\n",
       "</div>"
      ],
      "text/plain": [
       "           A          B          C          D          E          F  \\\n",
       "A   0.000000  25.071078   7.329411  27.429918   8.180775  23.045811   \n",
       "B  25.071078   0.000000  26.278192  46.056959  33.247524  20.200891   \n",
       "C   7.329411  26.278192   0.000000  33.764602  11.065323  29.091431   \n",
       "D  27.429918  46.056959  33.764602   0.000000  23.743838  30.277693   \n",
       "E   8.180775  33.247524  11.065323  23.743838   0.000000  28.851016   \n",
       "F  23.045811  20.200891  29.091431  30.277693  28.851016   0.000000   \n",
       "G  13.735469  17.323594  19.461180  28.742279  20.460843   9.642733   \n",
       "H  21.635401  26.121952  28.593217  23.236794  25.648615   7.173049   \n",
       "I  31.734657  26.293504  26.318924  59.131576  37.384211  43.219089   \n",
       "J  24.176031  32.403763  31.469924  18.034682  26.265668  13.393758   \n",
       "\n",
       "           G          H          I          J  \n",
       "A  13.735469  21.635401  31.734657  24.176031  \n",
       "B  17.323594  26.121952  26.293504  32.403763  \n",
       "C  19.461180  28.593217  26.318924  31.469924  \n",
       "D  28.742279  23.236794  59.131576  18.034682  \n",
       "E  20.460843  25.648615  37.384211  26.265668  \n",
       "F   9.642733   7.173049  43.219089  13.393758  \n",
       "G   0.000000  11.114167  35.647898  16.474309  \n",
       "H  11.114167   0.000000  46.748896   6.387256  \n",
       "I  35.647898  46.748896   0.000000  51.893378  \n",
       "J  16.474309   6.387256  51.893378   0.000000  "
      ]
     },
     "execution_count": 25,
     "metadata": {},
     "output_type": "execute_result"
    }
   ],
   "source": [
    "dist = DistanceMetric.get_metric('euclidean')\n",
    "distances_matrix = pd.DataFrame(dist.pairwise(df[['latitude','longitude']].to_numpy()),  columns=df.ville.unique(), index=df.ville.unique())\n",
    "distances_matrix"
   ]
  },
  {
   "cell_type": "code",
   "execution_count": 47,
   "id": "5e7ff016",
   "metadata": {},
   "outputs": [
    {
     "data": {
      "text/plain": [
       "G     0.000000\n",
       "F     9.642733\n",
       "H    11.114167\n",
       "A    13.735469\n",
       "J    16.474309\n",
       "B    17.323594\n",
       "C    19.461180\n",
       "E    20.460843\n",
       "D    28.742279\n",
       "I    35.647898\n",
       "Name: G, dtype: float64"
      ]
     },
     "execution_count": 47,
     "metadata": {},
     "output_type": "execute_result"
    }
   ],
   "source": [
    "distances_matrix[\"G\"].sort_values(ascending=True)"
   ]
  },
  {
   "cell_type": "code",
   "execution_count": 48,
   "id": "93997764",
   "metadata": {},
   "outputs": [],
   "source": [
    "nb_vehicle = 3\n",
    "vehicles_list = [\"v1\",\"v2\",\"v3\"]\n",
    "\n",
    "v1 = []\n",
    "v2 = []\n",
    "v3 = []\n",
    "\n",
    "#On choisit nos 3 points de départ pour chaque vehicule respectivement\n",
    "#v1 au pt B\n",
    "#v2 au pt A\n",
    "#v3 au pt H\n",
    "v1.append('B')\n",
    "v2.append('A')\n",
    "v3.append('H')\n",
    "depart_points= ['B', 'A', 'H']"
   ]
  },
  {
   "cell_type": "code",
   "execution_count": 49,
   "id": "3103e443",
   "metadata": {},
   "outputs": [
    {
     "data": {
      "text/plain": [
       "B     0.000000\n",
       "G    17.323594\n",
       "F    20.200891\n",
       "A    25.071078\n",
       "H    26.121952\n",
       "C    26.278192\n",
       "I    26.293504\n",
       "J    32.403763\n",
       "E    33.247524\n",
       "D    46.056959\n",
       "Name: B, dtype: float64"
      ]
     },
     "execution_count": 49,
     "metadata": {},
     "output_type": "execute_result"
    }
   ],
   "source": [
    "# On itère le processus de knn pour chaque point\n",
    "#On commence par le point B\n",
    "distances_matrix[\"B\"].sort_values(ascending=True)"
   ]
  },
  {
   "cell_type": "code",
   "execution_count": 50,
   "id": "8d7e6ee5",
   "metadata": {},
   "outputs": [
    {
     "data": {
      "text/plain": [
       "['B', 'F']"
      ]
     },
     "execution_count": 50,
     "metadata": {},
     "output_type": "execute_result"
    }
   ],
   "source": [
    "#On élimine déjà les 4 points de départ en outre du point de dépot G\n",
    "#Par ce principe le premier plus proche point est le point F\n",
    "v1.append('F')\n",
    "#Pt F éliminé\n",
    "v1"
   ]
  },
  {
   "cell_type": "code",
   "execution_count": 51,
   "id": "11d96d5d",
   "metadata": {},
   "outputs": [],
   "source": [
    "#On loop le processus pour otenir le résultat final\n",
    "distances_matrix[\"A\"].sort_values(ascending=True)\n",
    "v2.append('C')"
   ]
  },
  {
   "cell_type": "code",
   "execution_count": 52,
   "id": "74636d4e",
   "metadata": {},
   "outputs": [],
   "source": [
    "distances_matrix[\"H\"].sort_values(ascending=True)\n",
    "v3.append('J')"
   ]
  },
  {
   "cell_type": "code",
   "execution_count": 58,
   "id": "af6a68e9",
   "metadata": {},
   "outputs": [],
   "source": [
    "v1.append('I')"
   ]
  },
  {
   "cell_type": "code",
   "execution_count": 59,
   "id": "81096a52",
   "metadata": {},
   "outputs": [],
   "source": [
    "v2.append('E')"
   ]
  },
  {
   "cell_type": "code",
   "execution_count": 60,
   "id": "762a377b",
   "metadata": {},
   "outputs": [],
   "source": [
    "v3.append('D')"
   ]
  },
  {
   "cell_type": "markdown",
   "id": "64a359a5",
   "metadata": {},
   "source": [
    "## On loop le processus pour otenir le résultat final"
   ]
  },
  {
   "cell_type": "code",
   "execution_count": 61,
   "id": "f1bd4054",
   "metadata": {},
   "outputs": [
    {
     "data": {
      "text/plain": [
       "['B', 'F', 'I']"
      ]
     },
     "execution_count": 61,
     "metadata": {},
     "output_type": "execute_result"
    }
   ],
   "source": [
    "v1"
   ]
  },
  {
   "cell_type": "code",
   "execution_count": 62,
   "id": "3989e8e6",
   "metadata": {},
   "outputs": [
    {
     "data": {
      "text/plain": [
       "['A', 'C', 'E']"
      ]
     },
     "execution_count": 62,
     "metadata": {},
     "output_type": "execute_result"
    }
   ],
   "source": [
    "v2"
   ]
  },
  {
   "cell_type": "code",
   "execution_count": 63,
   "id": "d72929a6",
   "metadata": {},
   "outputs": [
    {
     "data": {
      "text/plain": [
       "['H', 'J', 'D']"
      ]
     },
     "execution_count": 63,
     "metadata": {},
     "output_type": "execute_result"
    }
   ],
   "source": [
    "v3"
   ]
  },
  {
   "cell_type": "code",
   "execution_count": 65,
   "id": "163a3961",
   "metadata": {},
   "outputs": [
    {
     "ename": "ValueError",
     "evalue": "not enough values to unpack (expected 2, got 1)",
     "output_type": "error",
     "traceback": [
      "\u001b[1;31m---------------------------------------------------------------------------\u001b[0m",
      "\u001b[1;31mValueError\u001b[0m                                Traceback (most recent call last)",
      "\u001b[1;32m<ipython-input-65-290161650316>\u001b[0m in \u001b[0;36m<module>\u001b[1;34m\u001b[0m\n\u001b[0;32m     16\u001b[0m \u001b[1;33m\u001b[0m\u001b[0m\n\u001b[0;32m     17\u001b[0m \u001b[1;32mfor\u001b[0m \u001b[0mgemeente\u001b[0m \u001b[1;32min\u001b[0m \u001b[0mgg\u001b[0m\u001b[1;33m.\u001b[0m\u001b[0mkeys\u001b[0m\u001b[1;33m(\u001b[0m\u001b[1;33m)\u001b[0m\u001b[1;33m:\u001b[0m\u001b[1;33m\u001b[0m\u001b[1;33m\u001b[0m\u001b[0m\n\u001b[1;32m---> 18\u001b[1;33m     \u001b[0mpoly\u001b[0m \u001b[1;33m=\u001b[0m \u001b[0mPolygon\u001b[0m\u001b[1;33m(\u001b[0m\u001b[0mgg\u001b[0m\u001b[1;33m[\u001b[0m\u001b[0mgemeente\u001b[0m\u001b[1;33m]\u001b[0m\u001b[1;33m,\u001b[0m \u001b[0mlabel\u001b[0m\u001b[1;33m=\u001b[0m\u001b[0mgemeente\u001b[0m\u001b[1;33m,\u001b[0m \u001b[0mfacecolor\u001b[0m\u001b[1;33m=\u001b[0m\u001b[0mgk\u001b[0m\u001b[1;33m[\u001b[0m\u001b[0mgemeente\u001b[0m\u001b[1;33m]\u001b[0m\u001b[1;33m,\u001b[0m \u001b[0medgecolor\u001b[0m\u001b[1;33m=\u001b[0m\u001b[1;34m'black'\u001b[0m\u001b[1;33m,\u001b[0m \u001b[0mlinewidth\u001b[0m\u001b[1;33m=\u001b[0m\u001b[1;36m1\u001b[0m\u001b[1;33m)\u001b[0m\u001b[1;33m\u001b[0m\u001b[1;33m\u001b[0m\u001b[0m\n\u001b[0m\u001b[0;32m     19\u001b[0m     \u001b[0max\u001b[0m\u001b[1;33m.\u001b[0m\u001b[0madd_patch\u001b[0m\u001b[1;33m(\u001b[0m\u001b[0mpoly\u001b[0m\u001b[1;33m)\u001b[0m\u001b[1;33m\u001b[0m\u001b[1;33m\u001b[0m\u001b[0m\n\u001b[0;32m     20\u001b[0m \u001b[1;33m\u001b[0m\u001b[0m\n",
      "\u001b[1;32mc:\\python\\python39\\lib\\site-packages\\matplotlib\\patches.py\u001b[0m in \u001b[0;36m__init__\u001b[1;34m(self, xy, closed, **kwargs)\u001b[0m\n\u001b[0;32m   1066\u001b[0m         \u001b[0msuper\u001b[0m\u001b[1;33m(\u001b[0m\u001b[1;33m)\u001b[0m\u001b[1;33m.\u001b[0m\u001b[0m__init__\u001b[0m\u001b[1;33m(\u001b[0m\u001b[1;33m**\u001b[0m\u001b[0mkwargs\u001b[0m\u001b[1;33m)\u001b[0m\u001b[1;33m\u001b[0m\u001b[1;33m\u001b[0m\u001b[0m\n\u001b[0;32m   1067\u001b[0m         \u001b[0mself\u001b[0m\u001b[1;33m.\u001b[0m\u001b[0m_closed\u001b[0m \u001b[1;33m=\u001b[0m \u001b[0mclosed\u001b[0m\u001b[1;33m\u001b[0m\u001b[1;33m\u001b[0m\u001b[0m\n\u001b[1;32m-> 1068\u001b[1;33m         \u001b[0mself\u001b[0m\u001b[1;33m.\u001b[0m\u001b[0mset_xy\u001b[0m\u001b[1;33m(\u001b[0m\u001b[0mxy\u001b[0m\u001b[1;33m)\u001b[0m\u001b[1;33m\u001b[0m\u001b[1;33m\u001b[0m\u001b[0m\n\u001b[0m\u001b[0;32m   1069\u001b[0m \u001b[1;33m\u001b[0m\u001b[0m\n\u001b[0;32m   1070\u001b[0m     \u001b[1;32mdef\u001b[0m \u001b[0mget_path\u001b[0m\u001b[1;33m(\u001b[0m\u001b[0mself\u001b[0m\u001b[1;33m)\u001b[0m\u001b[1;33m:\u001b[0m\u001b[1;33m\u001b[0m\u001b[1;33m\u001b[0m\u001b[0m\n",
      "\u001b[1;32mc:\\python\\python39\\lib\\site-packages\\matplotlib\\patches.py\u001b[0m in \u001b[0;36mset_xy\u001b[1;34m(self, xy)\u001b[0m\n\u001b[0;32m   1119\u001b[0m         \"\"\"\n\u001b[0;32m   1120\u001b[0m         \u001b[0mxy\u001b[0m \u001b[1;33m=\u001b[0m \u001b[0mnp\u001b[0m\u001b[1;33m.\u001b[0m\u001b[0masarray\u001b[0m\u001b[1;33m(\u001b[0m\u001b[0mxy\u001b[0m\u001b[1;33m)\u001b[0m\u001b[1;33m\u001b[0m\u001b[1;33m\u001b[0m\u001b[0m\n\u001b[1;32m-> 1121\u001b[1;33m         \u001b[0mnverts\u001b[0m\u001b[1;33m,\u001b[0m \u001b[0m_\u001b[0m \u001b[1;33m=\u001b[0m \u001b[0mxy\u001b[0m\u001b[1;33m.\u001b[0m\u001b[0mshape\u001b[0m\u001b[1;33m\u001b[0m\u001b[1;33m\u001b[0m\u001b[0m\n\u001b[0m\u001b[0;32m   1122\u001b[0m         \u001b[1;32mif\u001b[0m \u001b[0mself\u001b[0m\u001b[1;33m.\u001b[0m\u001b[0m_closed\u001b[0m\u001b[1;33m:\u001b[0m\u001b[1;33m\u001b[0m\u001b[1;33m\u001b[0m\u001b[0m\n\u001b[0;32m   1123\u001b[0m             \u001b[1;31m# if the first and last vertex are the \"same\", then we assume that\u001b[0m\u001b[1;33m\u001b[0m\u001b[1;33m\u001b[0m\u001b[1;33m\u001b[0m\u001b[0m\n",
      "\u001b[1;31mValueError\u001b[0m: not enough values to unpack (expected 2, got 1)"
     ]
    },
    {
     "data": {
      "image/png": "[encoded data removed]",
      "text/plain": [
       "<Figure size 432x288 with 1 Axes>"
      ]
     },
     "metadata": {
      "needs_background": "light"
     },
     "output_type": "display_data"
    }
   ],
   "source": [
    "from matplotlib.patches import Polygon\n",
    "gg = {'v1': ['G','B', 'F', 'I'],\n",
    "      'v2': ['G','A', 'C', 'E'],\n",
    "      'v3': ['G','H', 'J', 'D']}\n",
    "gh = {'v1': (4, 2), 'v2': (2, 2), 'v3': (5, 5)}\n",
    "# set colors\n",
    "gk = {'v1': 'yellow', 'v2': 'skyblue', 'v3': 'red'}\n",
    "# figure\n",
    "fig, ax = plt.subplots()\n",
    "for gemeente in gg.keys():\n",
    "    poly = Polygon(gg[gemeente], label=gemeente, facecolor=gk[gemeente], edgecolor='black', linewidth=1)\n",
    "    ax.add_patch(poly)\n",
    "for gemeente in gh.keys():\n",
    "    ax.scatter(gh[gemeente][0], gh[gemeente][1],label=gemeente)\n",
    "ax.legend()\n",
    "plt.autoscale()\n",
    "plt.show()"
   ]
  },
  {
   "cell_type": "code",
   "execution_count": null,
   "id": "61d2de7c",
   "metadata": {},
   "outputs": [],
   "source": []
  },
  {
   "cell_type": "code",
   "execution_count": null,
   "id": "b16a4f6b",
   "metadata": {},
   "outputs": [],
   "source": []
  },
  {
   "cell_type": "code",
   "execution_count": null,
   "id": "692099db",
   "metadata": {},
   "outputs": [],
   "source": []
  },
  {
   "cell_type": "code",
   "execution_count": 39,
   "id": "6f1314dc",
   "metadata": {},
   "outputs": [],
   "source": [
    "for i in range(len(vehicles_list)):\n",
    "    distances_matrix[depart_points[i]].sort_values(ascending=True)"
   ]
  },
  {
   "cell_type": "code",
   "execution_count": null,
   "id": "d00f528c",
   "metadata": {},
   "outputs": [],
   "source": []
  }
 ],
 "metadata": {
  "kernelspec": {
   "display_name": "Python 3",
   "language": "python",
   "name": "python3"
  },
  "language_info": {
   "codemirror_mode": {
    "name": "ipython",
    "version": 3
   },
   "file_extension": ".py",
   "mimetype": "text/x-python",
   "name": "python",
   "nbconvert_exporter": "python",
   "pygments_lexer": "ipython3",
   "version": "3.9.5"
  }
 },
 "nbformat": 4,
 "nbformat_minor": 5
}
